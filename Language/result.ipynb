{
 "cells": [
  {
   "cell_type": "code",
   "execution_count": 58,
   "metadata": {},
   "outputs": [
    {
     "name": "stdout",
     "output_type": "stream",
     "text": [
      "False\n",
      "True\n",
      "0 3000 1000 H\n",
      "1000 0 1000 e\n",
      "0 1000 1000 l\n",
      "0 1000 1000 l\n",
      "3000 0 1000 o\n",
      "0 0 1000  \n",
      "1000 0 1000 m\n",
      "3000 0 1000 y\n",
      "0 0 1000  \n",
      "3000 0 1000 n\n",
      "0 1000 1000 a\n",
      "1000 0 1000 m\n",
      "1000 0 1000 e\n",
      "0 0 1000  \n",
      "0 1000 1000 i\n",
      "0 3000 1000 s\n",
      "0 0 1000  \n",
      "0 1000 1000 A\n",
      "True\n",
      "False\n",
      "0 3000 1000 h\n",
      "1000 0 1000 m\n",
      "1000 0 1000 e\n",
      "3000 0 1000 d\n",
      "0 0 1000  \n",
      "1000 0 1000 E\n",
      "0 1000 1000 l\n",
      "1000 0 1000 m\n",
      "0 1000 1000 a\n",
      "0 1000 1000 l\n",
      "0 1000 1000 a\n",
      "0 3000 1000 w\n",
      "0 1000 1000 a\n",
      "3000 0 1000 n\n",
      "3000 0 1000 y\n",
      "0 0 0 \n",
      "\n",
      "3000 0 1000 N\n",
      "0 1000 1000 i\n",
      "0 1000 1000 c\n",
      "1000 0 1000 e\n",
      "0 0 1000  \n",
      "1000 0 1000 t\n",
      "3000 0 1000 o\n",
      "0 0 1000  \n",
      "1000 0 1000 m\n",
      "1000 0 1000 e\n",
      "1000 0 1000 e\n",
      "1000 0 1000 t\n",
      "0 0 1000  \n",
      "3000 0 1000 y\n",
      "3000 0 1000 o\n",
      "1000 0 1000 u\n"
     ]
    }
   ],
   "source": [
    "!python vibration_language_system.py"
   ]
  }
 ],
 "metadata": {
  "kernelspec": {
   "display_name": "Python 3",
   "language": "python",
   "name": "python3"
  },
  "language_info": {
   "codemirror_mode": {
    "name": "ipython",
    "version": 3
   },
   "file_extension": ".py",
   "mimetype": "text/x-python",
   "name": "python",
   "nbconvert_exporter": "python",
   "pygments_lexer": "ipython3",
   "version": "3.8.3"
  }
 },
 "nbformat": 4,
 "nbformat_minor": 4
}
